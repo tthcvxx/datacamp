{
 "cells": [
  {
   "cell_type": "code",
   "execution_count": null,
   "id": "01bdf2d6",
   "metadata": {},
   "outputs": [],
   "source": [
    "# https://goldinlocks.github.io/Market-Basket-Analysis-in-Python/\n",
    "\n",
    "def leverage(antecedent, consequent):\n",
    "    # Compute support for antecedent AND consequent\n",
    "    supportAB = np.logical_and(antecedent, consequent).mean()\n",
    "\n",
    "    # Compute support for antecedent\n",
    "    supportA = antecedent.mean()\n",
    "\n",
    "    # Compute support for consequent\n",
    "    supportB = consequent.mean()\n",
    "\n",
    "    # Return leverage\n",
    "    return supportAB - supportB * supportA"
   ]
  },
  {
   "cell_type": "code",
   "execution_count": null,
   "id": "d159e736",
   "metadata": {},
   "outputs": [],
   "source": [
    "def conviction(antecedent, consequent):\n",
    "    # Compute support for antecedent AND consequent\n",
    "    supportAC = np.logical_and(antecedent, consequent).mean()\n",
    "\n",
    "    # Compute support for antecedent\n",
    "    supportA = antecedent.mean()\n",
    "\n",
    "    # Compute support for NOT consequent\n",
    "    supportnC = 1.0 - consequent.mean()\n",
    "\n",
    "    # Compute support for antecedent and NOT consequent\n",
    "    supportAnC = supportA - supportAC\n",
    "\n",
    "    # Return conviction\n",
    "    return supportA * supportnC / supportAnC"
   ]
  },
  {
   "cell_type": "code",
   "execution_count": null,
   "id": "a31c532a",
   "metadata": {},
   "outputs": [],
   "source": [
    "# Define a function to compute Zhang's metric\n",
    "def zhang(antecedent, consequent):\n",
    "    # Compute the support of each book\n",
    "    supportA = antecedent.mean()\n",
    "    supportC = consequent.mean()\n",
    "\n",
    "    # Compute the support of both books\n",
    "    supportAC = np.logical_and(antecedent, consequent).mean()\n",
    "\n",
    "    # Complete the expressions for the numerator and denominator\n",
    "    numerator = supportAC - supportA*supportC\n",
    "    denominator = max(supportAC*(1-supportA), supportA*(supportC-supportAC))\n",
    "\n",
    "    # Return Zhang's metric\n",
    "    return numerator / denominator"
   ]
  },
  {
   "cell_type": "code",
   "execution_count": null,
   "id": "1ecd0163",
   "metadata": {},
   "outputs": [],
   "source": [
    "# Create rules DataFrame\n",
    "rules_ = pd.DataFrame(rules, columns=['antecedents','consequents'])\n",
    "\n",
    "# Define an empty list for metrics\n",
    "zhangs, conv, lev, antec_supp, cons_supp, suppt, conf, lft = [], [], [], [], [], [], [], []\n",
    "\n",
    "# Loop over lists in itemsets\n",
    "for itemset in rules:\n",
    "    # Extract the antecedent and consequent columns\n",
    "    antecedent = onehot[itemset[0]]\n",
    "    consequent = onehot[itemset[1]]\n",
    "    \n",
    "    antecedent_support = onehot[itemset[0]].mean()\n",
    "    consequent_support = onehot[itemset[1]].mean()\n",
    "    support = np.logical_and(onehot[itemset[0]], onehot[itemset[1]]).mean()\n",
    "    confidence = support / antecedent_support\n",
    "    lift = support / (antecedent_support * consequent_support)\n",
    "    \n",
    "    # Complete metrics and append it to the list\n",
    "    antec_supp.append(antecedent_support)\n",
    "    cons_supp.append(consequent_support)\n",
    "    suppt.append(support)\n",
    "    conf.append(confidence)\n",
    "    lft.append(lift)\n",
    "    lev.append(leverage(antecedent, consequent))\n",
    "    conv.append(conviction(antecedent, consequent))\n",
    "    zhangs.append(zhang(antecedent, consequent))\n",
    "    \n",
    "# Store results\n",
    "rules_['antecedent support'] = antec_supp\n",
    "rules_['consequent support'] = cons_supp\n",
    "rules_['support'] = suppt\n",
    "rules_['confidence'] = conf\n",
    "rules_['lift'] = lft\n",
    "rules_['leverage'] = lev\n",
    "rules_['conviction'] = conv\n",
    "rules_['zhang'] = zhangs\n",
    "\n",
    "# Print results\n",
    "rules_.sort_values('zhang',ascending=False).head()"
   ]
  }
 ],
 "metadata": {
  "kernelspec": {
   "display_name": "Python 3 (ipykernel)",
   "language": "python",
   "name": "python3"
  },
  "language_info": {
   "codemirror_mode": {
    "name": "ipython",
    "version": 3
   },
   "file_extension": ".py",
   "mimetype": "text/x-python",
   "name": "python",
   "nbconvert_exporter": "python",
   "pygments_lexer": "ipython3",
   "version": "3.9.12"
  }
 },
 "nbformat": 4,
 "nbformat_minor": 5
}
