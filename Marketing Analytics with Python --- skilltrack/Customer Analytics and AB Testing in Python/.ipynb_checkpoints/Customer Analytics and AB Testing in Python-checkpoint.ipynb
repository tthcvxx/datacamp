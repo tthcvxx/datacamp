{
 "cells": [
  {
   "cell_type": "markdown",
   "id": "dc02e68e",
   "metadata": {},
   "source": [
    "## Key Performance Indicators: Measuring Business Success"
   ]
  },
  {
   "cell_type": "markdown",
   "id": "7bb00650",
   "metadata": {},
   "source": [
    "This chapter provides a brief introduction to the content that will be covered throughout the course before transitioning into a discussion of Key Performance Indicators or KPIs. You'll learn how to identify and define meaningful KPIs through a combination of critical thinking and leveraging Python tools. These techniques are all presented in a highly practical and generalizable way. Ultimately these topics serve as the core foundation for the A/B testing discussion that follows."
   ]
  },
  {
   "cell_type": "markdown",
   "id": "0b182486",
   "metadata": {},
   "source": [
    "### Identifying and understanding KPIs"
   ]
  },
  {
   "cell_type": "code",
   "execution_count": null,
   "id": "636e5d78",
   "metadata": {},
   "outputs": [],
   "source": [
    "# Loading & examining our data\n",
    "\n",
    "# Import pandas \n",
    "import pandas as pd\n",
    "\n",
    "# Load the customer_data\n",
    "customer_data = pd.read_csv('customer_data.csv')\n",
    "\n",
    "# Load the app_purchases\n",
    "app_purchases = pd.read_csv('inapp_purchases.csv')\n",
    "\n",
    "# Print the columns of customer data\n",
    "print(customer_data.columns)\n",
    "\n",
    "# Print the columns of app_purchases\n",
    "print(app_purchases.columns)"
   ]
  },
  {
   "cell_type": "code",
   "execution_count": null,
   "id": "be7064e5",
   "metadata": {},
   "outputs": [],
   "source": [
    "# Merging on different sets of fields\n",
    "\n",
    "# Merge on the 'uid' field\n",
    "uid_combined_data = app_purchases.merge(customer_data, on=['uid'], how='inner')\n",
    "\n",
    "# Examine the results \n",
    "print(uid_combined_data.head())\n",
    "print(len(uid_combined_data))\n",
    "\n",
    "# Merge on the 'uid' and 'date' field\n",
    "uid_date_combined_data = app_purchases.merge(customer_data, on=['uid', 'date'], how='inner')\n",
    "\n",
    "# Examine the results \n",
    "print(uid_date_combined_data.head())\n",
    "print(len(uid_date_combined_data))"
   ]
  },
  {
   "cell_type": "markdown",
   "id": "d5089c9c",
   "metadata": {},
   "source": [
    "### Exploratory analysis of KPIs"
   ]
  },
  {
   "cell_type": "code",
   "execution_count": null,
   "id": "0068e46a",
   "metadata": {},
   "outputs": [],
   "source": [
    "# Practicing aggregations\n",
    "\n",
    "# Calculate the mean purchase price \n",
    "purchase_price_mean = purchase_data.price.agg('mean')\n",
    "\n",
    "# Examine the output \n",
    "print(purchase_price_mean)\n",
    "\n",
    "# Calculate the mean and median purchase price \n",
    "purchase_price_summary = purchase_data.price.agg(['mean', 'median'])\n",
    "\n",
    "# Examine the output \n",
    "print(purchase_price_summary)\n",
    "\n",
    "# Calculate the mean and median of price and age\n",
    "purchase_summary = purchase_data.agg({'price': ['mean', 'median'], 'age': ['mean', 'median']})\n",
    "\n",
    "# Examine the output \n",
    "print(purchase_summary)"
   ]
  },
  {
   "cell_type": "code",
   "execution_count": null,
   "id": "a73fb9e6",
   "metadata": {},
   "outputs": [],
   "source": [
    "# Grouping & aggregating\n",
    "\n",
    "# Group the data \n",
    "grouped_purchase_data = purchase_data.groupby(by = ['device', 'gender'])\n",
    "\n",
    "# Aggregate the data\n",
    "purchase_summary = grouped_purchase_data.agg({'price': ['mean', 'median', 'std']})\n",
    "\n",
    "# Examine the results\n",
    "print(purchase_summary)"
   ]
  },
  {
   "cell_type": "markdown",
   "id": "3f308679",
   "metadata": {},
   "source": [
    "### Calculating KPIs - a practical example"
   ]
  },
  {
   "cell_type": "code",
   "execution_count": null,
   "id": "0fa32e07",
   "metadata": {},
   "outputs": [],
   "source": [
    "# Compute max_purchase_date \n",
    "max_purchase_date = current_date - timedelta(days=28)\n",
    "\n",
    "# Filter to only include users who registered before our max date\n",
    "purchase_data_filt = purchase_data[purchase_data.reg_date < max_purchase_date]\n",
    "\n",
    "# Filter to contain only purchases within the first 28 days of registration\n",
    "purchase_data_filt = purchase_data_filt[(purchase_data_filt.date <=\n",
    "                                         purchase_data_filt.reg_date + \n",
    "                                         timedelta(days=28))]\n",
    "\n",
    "# Output the mean price paid per purchase\n",
    "print(purchase_data_filt.price.mean())"
   ]
  },
  {
   "cell_type": "code",
   "execution_count": null,
   "id": "ceb20f81",
   "metadata": {},
   "outputs": [],
   "source": [
    "# Average purchase price by cohort\n",
    "\n",
    "# Set the max registration date to be one month before today\n",
    "max_reg_date = current_date - timedelta(days=28)\n",
    "\n",
    "# Find the month 1 values:\n",
    "month1 = np.where((purchase_data.reg_date < max_reg_date) &\n",
    "                    (purchase_data.date < purchase_data.reg_date + timedelta(days=28)),\n",
    "                  purchase_data.price, \n",
    "                  np.NaN)\n",
    "                 \n",
    "# Update the value in the DataFrame \n",
    "purchase_data['month1'] = month1\n",
    "\n",
    "# Group the data by gender and device \n",
    "purchase_data_upd = purchase_data.groupby(by=['gender', 'device'], as_index=False)\n",
    "\n",
    "# Aggregate the month1 and price data \n",
    "purchase_summary = purchase_data_upd.agg(\n",
    "                        {'month1': ['mean', 'median'],\n",
    "                        'price': ['mean', 'median']})\n",
    "\n",
    "# Examine the results \n",
    "print(purchase_summary)"
   ]
  }
 ],
 "metadata": {
  "kernelspec": {
   "display_name": "Python 3 (ipykernel)",
   "language": "python",
   "name": "python3"
  },
  "language_info": {
   "codemirror_mode": {
    "name": "ipython",
    "version": 3
   },
   "file_extension": ".py",
   "mimetype": "text/x-python",
   "name": "python",
   "nbconvert_exporter": "python",
   "pygments_lexer": "ipython3",
   "version": "3.9.12"
  }
 },
 "nbformat": 4,
 "nbformat_minor": 5
}
