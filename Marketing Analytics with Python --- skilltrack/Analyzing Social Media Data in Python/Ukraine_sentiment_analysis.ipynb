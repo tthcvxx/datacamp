{
 "cells": [
  {
   "cell_type": "code",
   "execution_count": null,
   "id": "cb0983a2",
   "metadata": {},
   "outputs": [],
   "source": [
    "https://www.kaggle.com/code/avinandandutta/twitter-sentiment-analysis-russia-ukraine-conflict/data\n",
    "https://www.geeksforgeeks.org/twitter-sentiment-analysis-on-russia-ukraine-war-using-python/\n",
    "https://www.researchgate.net/publication/361275253_A_sentiment_analysis_of_the_Ukraine-Russia_conflict_tweets_using_Recurrent_Neural_Networks"
   ]
  }
 ],
 "metadata": {
  "kernelspec": {
   "display_name": "Python 3 (ipykernel)",
   "language": "python",
   "name": "python3"
  },
  "language_info": {
   "codemirror_mode": {
    "name": "ipython",
    "version": 3
   },
   "file_extension": ".py",
   "mimetype": "text/x-python",
   "name": "python",
   "nbconvert_exporter": "python",
   "pygments_lexer": "ipython3",
   "version": "3.9.12"
  }
 },
 "nbformat": 4,
 "nbformat_minor": 5
}
