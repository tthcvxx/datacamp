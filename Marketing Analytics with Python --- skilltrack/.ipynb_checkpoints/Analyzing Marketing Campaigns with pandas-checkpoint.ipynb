{
 "cells": [
  {
   "cell_type": "markdown",
   "id": "1bd15ac5",
   "metadata": {},
   "source": [
    "# Analyzing Marketing Campaigns with pandas"
   ]
  },
  {
   "cell_type": "markdown",
   "id": "f1c77fce",
   "metadata": {},
   "source": [
    "https://campus.datacamp.com/courses/analyzing-marketing-campaigns-with-pandas/"
   ]
  },
  {
   "cell_type": "markdown",
   "id": "f6366541",
   "metadata": {},
   "source": [
    "## Pandas"
   ]
  },
  {
   "cell_type": "markdown",
   "id": "48452906",
   "metadata": {},
   "source": [
    "### Intro to pandas for marketing"
   ]
  },
  {
   "cell_type": "code",
   "execution_count": null,
   "id": "250a8cd9",
   "metadata": {},
   "outputs": [],
   "source": [
    "# Import pandas into the environment\n",
    "import pandas as pd\n",
    "\n",
    "# Import marketing.csv \n",
    "marketing = pd.read_csv('marketing.csv')"
   ]
  },
  {
   "cell_type": "code",
   "execution_count": null,
   "id": "99421304",
   "metadata": {},
   "outputs": [],
   "source": [
    "# Print the first five rows of the DataFrame\n",
    "print(marketing.head())\n",
    "\n",
    "# Print the statistics of all columns\n",
    "print(marketing.describe())\n",
    "\n",
    "# Check column data types and non-missing values\n",
    "print(marketing.info())"
   ]
  },
  {
   "cell_type": "markdown",
   "id": "6b84078c",
   "metadata": {},
   "source": [
    "### Data types and data merging"
   ]
  },
  {
   "cell_type": "code",
   "execution_count": null,
   "id": "ecb66f91",
   "metadata": {},
   "outputs": [],
   "source": [
    "### Updating the data type of a column\n",
    "\n",
    "# Convert is_retained to a boolean\n",
    "marketing['is_retained'] = marketing['is_retained'].astype('bool')\n",
    "\n",
    "# Check the data type of is_retained, again\n",
    "print(marketing['is_retained'].dtype)"
   ]
  },
  {
   "cell_type": "code",
   "execution_count": null,
   "id": "aa0457b4",
   "metadata": {},
   "outputs": [],
   "source": [
    "### Adding new columns\n",
    "\n",
    "# Mapping for channels\n",
    "channel_dict = {\"House Ads\": 1, \"Instagram\": 2, \n",
    "                \"Facebook\": 3, \"Email\": 4, \"Push\": 5}\n",
    "\n",
    "# Map the channel to a channel code\n",
    "marketing['channel_code'] = marketing['subscribing_channel'].map(channel_dict)"
   ]
  },
  {
   "cell_type": "code",
   "execution_count": null,
   "id": "6e804011",
   "metadata": {},
   "outputs": [],
   "source": [
    "# Mapping for channels\n",
    "channel_dict = {\"House Ads\": 1, \"Instagram\": 2, \n",
    "                \"Facebook\": 3, \"Email\": 4, \"Push\": 5}\n",
    "\n",
    "# Map the channel to a channel code\n",
    "marketing['channel_code'] = marketing['subscribing_channel'].map(channel_dict)\n",
    "\n",
    "# Import numpy\n",
    "import numpy as np\n",
    "\n",
    "# Add the new column is_correct_lang\n",
    "marketing['is_correct_lang'] = np.where(marketing['language_displayed'] == marketing['language_preferred'], 'Yes', 'No')"
   ]
  },
  {
   "cell_type": "code",
   "execution_count": null,
   "id": "730748af",
   "metadata": {},
   "outputs": [],
   "source": [
    "# Import pandas into the environment\n",
    "import pandas as pd\n",
    "\n",
    "# Import marketing.csv with date columns\n",
    "marketing = pd.read_csv('marketing.csv', parse_dates = ['date_served', 'date_subscribed', 'date_canceled'])\n",
    "\n",
    "# Add a DoW column\n",
    "marketing['DoW'] = marketing['date_subscribed'].dt.dayofweek"
   ]
  },
  {
   "cell_type": "markdown",
   "id": "1e4d0cbd",
   "metadata": {},
   "source": [
    "### Initial exploratory analysis"
   ]
  },
  {
   "cell_type": "code",
   "execution_count": null,
   "id": "3b08fa36",
   "metadata": {},
   "outputs": [],
   "source": [
    "### Daily marketing reach by channel\n",
    "\n",
    "# Group by date_served and count number of unique user_id's\n",
    "daily_users = marketing.groupby(['date_served'])['user_id'].nunique()\n",
    "\n",
    "# Print head of daily_users\n",
    "print(daily_users.head())"
   ]
  },
  {
   "cell_type": "code",
   "execution_count": null,
   "id": "1d0d2778",
   "metadata": {},
   "outputs": [],
   "source": [
    "### Visualizing daily marketing reach\n",
    "\n",
    "# Plot daily_subscribers\n",
    "daily_users.plot()\n",
    "\n",
    "# Include a title and y-axis label\n",
    "plt.title('Daily users')\n",
    "plt.ylabel('Number of users')\n",
    "\n",
    "# Rotate the x-axis labels by 45 degrees\n",
    "plt.xticks(rotation = 45)\n",
    "\n",
    "# Display the plot\n",
    "plt.show()"
   ]
  },
  {
   "cell_type": "markdown",
   "id": "266c9e0a",
   "metadata": {},
   "source": [
    "## Exploratory Analysis & Summary Statistics"
   ]
  },
  {
   "cell_type": "markdown",
   "id": "99043fe3",
   "metadata": {},
   "source": [
    "### Introduction to common marketing metrics"
   ]
  },
  {
   "cell_type": "code",
   "execution_count": null,
   "id": "c7a0349d",
   "metadata": {},
   "outputs": [],
   "source": [
    "# Calculating conversion rate\n",
    "\n",
    "# Calculate the number of people we marketed to\n",
    "total = marketing['user_id'].nunique()\n",
    "\n",
    "# Calculate the number of people who subscribed\n",
    "subscribers = marketing[marketing['converted'] == True]['user_id'].nunique()\n",
    "\n",
    "# Calculate the conversion rate\n",
    "conversion_rate = subscribers / total\n",
    "print(round(conversion_rate*100, 2), \"%\")"
   ]
  },
  {
   "cell_type": "code",
   "execution_count": null,
   "id": "59185d5f",
   "metadata": {},
   "outputs": [],
   "source": [
    "# Calculating retention rate\n",
    "\n",
    "# Calculate the number of subscribers\n",
    "total_subscribers = marketing[marketing['converted'] == True]['user_id'].nunique()\n",
    "\n",
    "# Calculate the number of people who remained subscribed\n",
    "retained = marketing[marketing['is_retained'] == True]['user_id'].nunique()\n",
    "\n",
    "# Calculate the retention rate\n",
    "retention_rate = retained / total_subscribers\n",
    "print(round(retention_rate*100, 2), \"%\")"
   ]
  },
  {
   "cell_type": "markdown",
   "id": "8beb195b",
   "metadata": {},
   "source": [
    "### Customer segmentation"
   ]
  },
  {
   "cell_type": "code",
   "execution_count": null,
   "id": "befcc16e",
   "metadata": {},
   "outputs": [],
   "source": [
    "# Comparing language conversion rate (I)\n",
    "\n",
    "# Isolate english speakers\n",
    "english_speakers = marketing[marketing['language_displayed'] == 'English']\n",
    "\n",
    "# Calculate the total number of English speaking users\n",
    "total = english_speakers['user_id'].nunique()\n",
    "\n",
    "# Calculate the number of English speakers who converted\n",
    "subscribers = english_speakers[english_speakers['converted'] == True]['user_id'].nunique()\n",
    "\n",
    "# Calculate conversion rate\n",
    "conversion_rate = subscribers/total\n",
    "print('English speaker conversion rate:', round(conversion_rate*100,2), '%')"
   ]
  },
  {
   "cell_type": "code",
   "execution_count": null,
   "id": "7ae0ee89",
   "metadata": {},
   "outputs": [],
   "source": [
    "# Comparing language conversion rate (II)\n",
    "\n",
    "# Group by language_displayed and count unique users\n",
    "total = marketing.groupby(['language_displayed'])['user_id'].nunique()\n",
    "\n",
    "# Group by language_displayed and count unique conversions\n",
    "subscribers = marketing[marketing['converted'] == True].groupby(['language_displayed'])['user_id'].nunique()\n",
    "\n",
    "# Calculate the conversion rate for all languages\n",
    "language_conversion_rate = subscribers / total\n",
    "print(language_conversion_rate)"
   ]
  },
  {
   "cell_type": "code",
   "execution_count": null,
   "id": "7b184e8a",
   "metadata": {},
   "outputs": [],
   "source": [
    "# Aggregating by date\n",
    "\n",
    "# Group by date_served and count unique users\n",
    "total = marketing.groupby(['date_served'])['user_id'].nunique()\n",
    "\n",
    "# Group by date_served and count unique converted users\n",
    "subscribers = marketing[marketing['converted'] == True].groupby(['date_served'])['user_id'].nunique()\n",
    "\n",
    "# Calculate the conversion rate per day\n",
    "daily_conversion_rate = subscribers/total\n",
    "print(daily_conversion_rate)"
   ]
  },
  {
   "cell_type": "markdown",
   "id": "f0712417",
   "metadata": {},
   "source": [
    "### Plotting campaign results (I)"
   ]
  },
  {
   "cell_type": "code",
   "execution_count": null,
   "id": "5785063c",
   "metadata": {},
   "outputs": [],
   "source": [
    "# Visualize conversion rate by language\n",
    "\n",
    "# Create a bar chart using language_conversion_rate DataFrame\n",
    "language_conversion_rate.plot(kind = 'bar')\n",
    "\n",
    "# Add a title and x and y-axis labels\n",
    "plt.title('Conversion rate by language\\n', size = 16)\n",
    "plt.xlabel('Language', size = 14)\n",
    "plt.ylabel('Conversion rate (%)', size = 14)\n",
    "\n",
    "# Display the plot\n",
    "plt.show()"
   ]
  },
  {
   "cell_type": "code",
   "execution_count": null,
   "id": "10e45a3f",
   "metadata": {},
   "outputs": [],
   "source": [
    "# Creating daily conversion rate DataFrame\n",
    "\n",
    "# Group by date_served and count unique users\n",
    "total = marketing.groupby(['date_served'])['user_id']\\\n",
    "                     .nunique()\n",
    "\n",
    "# Group by date_served and calculate subscribers\n",
    "subscribers = marketing[marketing['converted'] == True]\\\n",
    "                         .groupby(['date_served'])\\\n",
    "                         ['user_id'].nunique()\n",
    "\n",
    "# Calculate the conversion rate for all languages\n",
    "daily_conversion_rates = subscribers/total"
   ]
  },
  {
   "cell_type": "code",
   "execution_count": null,
   "id": "548542ce",
   "metadata": {},
   "outputs": [],
   "source": [
    "# Setting up our data to visualize daily conversion\n",
    "\n",
    "# Reset index to turn the results into a DataFrame\n",
    "daily_conversion_rate = pd.DataFrame(daily_conversion_rates.reset_index())\n",
    "\n",
    "# Rename columns\n",
    "daily_conversion_rate.columns = ['date_served', \n",
    "                              'conversion_rate']"
   ]
  },
  {
   "cell_type": "code",
   "execution_count": null,
   "id": "7cd16783",
   "metadata": {},
   "outputs": [],
   "source": [
    "# Visualize daily conversion rate\n",
    "\n",
    "# Create a line chart using daily_conversion_rate\n",
    "daily_conversion_rate.plot('date_subscribed', 'conversion_rate')\n",
    "\n",
    "plt.title('Daily conversion rate\\n', size = 16)\n",
    "plt.ylabel('Conversion rate (%)', size = 14)\n",
    "plt.xlabel('Date', size = 14)\n",
    "\n",
    "# Set the y-axis to begin at 0\n",
    "plt.ylim(0)\n",
    "\n",
    "# Display the plot\n",
    "plt.show()"
   ]
  },
  {
   "cell_type": "markdown",
   "id": "f0606a14",
   "metadata": {},
   "source": [
    "### Plotting campaign results (II)"
   ]
  },
  {
   "cell_type": "code",
   "execution_count": null,
   "id": "086430ff",
   "metadata": {},
   "outputs": [],
   "source": [
    "# Marketing channels across age groups\n",
    "\n",
    "channel_age = marketing.groupby(['marketing_channel', 'age_group'])\\\n",
    "                                ['user_id'].count()\n",
    "\n",
    "# Unstack channel_age and transform it into a DataFrame\n",
    "channel_age_df = pd.DataFrame(channel_age.unstack(level = 1))\n",
    "\n",
    "# Plot channel_age\n",
    "channel_age_df.plot(kind = 'bar')\n",
    "plt.title('Marketing channels by age group')\n",
    "plt.xlabel('Age Group')\n",
    "plt.ylabel('Users')\n",
    "# Add a legend to the plot\n",
    "plt.legend(loc = 'upper right', \n",
    "           labels = channel_age_df.columns.values)\n",
    "plt.show()"
   ]
  },
  {
   "cell_type": "code",
   "execution_count": null,
   "id": "d147d997",
   "metadata": {},
   "outputs": [],
   "source": [
    "#Grouping and counting by multiple columns\n",
    "\n",
    "# Count the subs by subscribing channel and day\n",
    "retention_total = marketing.groupby(['date_subscribed',\n",
    "                                     'subscribing_channel'])\\\n",
    "                                     ['user_id'].nunique()\n",
    "\n",
    "# Print results\n",
    "print(retention_total.head())"
   ]
  },
  {
   "cell_type": "code",
   "execution_count": null,
   "id": "418ec6f1",
   "metadata": {},
   "outputs": [],
   "source": [
    "# Grouping and counting by multiple columns\n",
    "\n",
    "# Sum the retained subs by subscribing channel and date subscribed\n",
    "retention_subs = marketing[marketing['is_retained'] == True].groupby(\n",
    "    ['date_subscribed', 'subscribing_channel'])['user_id'].\\\n",
    "    nunique()\n",
    "\n",
    "# Print results\n",
    "print(retention_subs.head())"
   ]
  },
  {
   "cell_type": "code",
   "execution_count": null,
   "id": "37af475a",
   "metadata": {},
   "outputs": [],
   "source": [
    "# Analyzing retention rates for the campaign\n",
    "\n",
    "# Divide retained subscribers by total subscribers\n",
    "retention_rate = retention_subs/retention_total\n",
    "retention_rate_df = pd.DataFrame(retention_rate.unstack(level=1))\n",
    "\n",
    "# Plot retention rate\n",
    "retention_rate_df.plot()\n",
    "\n",
    "# Add a title, x-label, y-label, legend and display the plot\n",
    "plt.title('Retention Rate by Subscribing Channel')\n",
    "plt.xlabel('Date Subscribed')\n",
    "plt.ylabel('Retention Rate (%)')\n",
    "plt.legend(loc = 'upper right', labels = retention_rate_df.columns.values)\n",
    "plt.show()"
   ]
  },
  {
   "cell_type": "markdown",
   "id": "74b7e475",
   "metadata": {},
   "source": [
    "## Conversion Attribution"
   ]
  },
  {
   "cell_type": "code",
   "execution_count": null,
   "id": "3ff5747b",
   "metadata": {},
   "outputs": [],
   "source": [
    "# Building a conversion function\n",
    "\n",
    "def conversion_rate(dataframe, column_names):\n",
    "    # Total number of converted users\n",
    "    column_conv = marketing[marketing['converted'] == True]['user_id'].nunique()\n",
    "\n",
    "    # Total number users\n",
    "    column_total = marketing['user_id'].nunique()  \n",
    "    \n",
    "    # Conversion rate \n",
    "    conversion_rate = column_conv/column_total\n",
    "    \n",
    "    # Fill missing values with 0\n",
    "    conversion_rate = conversion_rate.fillna(0)\n",
    "    return conversion_rate"
   ]
  },
  {
   "cell_type": "code",
   "execution_count": null,
   "id": "0a3ea0e8",
   "metadata": {},
   "outputs": [],
   "source": []
  }
 ],
 "metadata": {
  "kernelspec": {
   "display_name": "Python 3 (ipykernel)",
   "language": "python",
   "name": "python3"
  },
  "language_info": {
   "codemirror_mode": {
    "name": "ipython",
    "version": 3
   },
   "file_extension": ".py",
   "mimetype": "text/x-python",
   "name": "python",
   "nbconvert_exporter": "python",
   "pygments_lexer": "ipython3",
   "version": "3.9.12"
  }
 },
 "nbformat": 4,
 "nbformat_minor": 5
}
