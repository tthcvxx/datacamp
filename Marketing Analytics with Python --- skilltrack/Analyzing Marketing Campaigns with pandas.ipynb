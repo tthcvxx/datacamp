{
 "cells": [
  {
   "cell_type": "markdown",
   "id": "1bd15ac5",
   "metadata": {},
   "source": [
    "# Analyzing Marketing Campaigns with pandas"
   ]
  },
  {
   "cell_type": "markdown",
   "id": "f1c77fce",
   "metadata": {},
   "source": [
    "https://campus.datacamp.com/courses/analyzing-marketing-campaigns-with-pandas/"
   ]
  },
  {
   "cell_type": "markdown",
   "id": "f6366541",
   "metadata": {},
   "source": [
    "## Pandas"
   ]
  },
  {
   "cell_type": "markdown",
   "id": "48452906",
   "metadata": {},
   "source": [
    "### Intro to pandas for marketing"
   ]
  },
  {
   "cell_type": "code",
   "execution_count": null,
   "id": "250a8cd9",
   "metadata": {},
   "outputs": [],
   "source": [
    "# Import pandas into the environment\n",
    "import pandas as pd\n",
    "\n",
    "# Import marketing.csv \n",
    "marketing = pd.read_csv('marketing.csv')"
   ]
  },
  {
   "cell_type": "code",
   "execution_count": null,
   "id": "99421304",
   "metadata": {},
   "outputs": [],
   "source": [
    "# Print the first five rows of the DataFrame\n",
    "print(marketing.head())\n",
    "\n",
    "# Print the statistics of all columns\n",
    "print(marketing.describe())\n",
    "\n",
    "# Check column data types and non-missing values\n",
    "print(marketing.info())"
   ]
  },
  {
   "cell_type": "markdown",
   "id": "6b84078c",
   "metadata": {},
   "source": [
    "### Data types and data merging"
   ]
  },
  {
   "cell_type": "code",
   "execution_count": null,
   "id": "ecb66f91",
   "metadata": {},
   "outputs": [],
   "source": [
    "### Updating the data type of a column\n",
    "\n",
    "# Convert is_retained to a boolean\n",
    "marketing['is_retained'] = marketing['is_retained'].astype('bool')\n",
    "\n",
    "# Check the data type of is_retained, again\n",
    "print(marketing['is_retained'].dtype)"
   ]
  },
  {
   "cell_type": "code",
   "execution_count": null,
   "id": "aa0457b4",
   "metadata": {},
   "outputs": [],
   "source": [
    "### Adding new columns\n",
    "\n",
    "# Mapping for channels\n",
    "channel_dict = {\"House Ads\": 1, \"Instagram\": 2, \n",
    "                \"Facebook\": 3, \"Email\": 4, \"Push\": 5}\n",
    "\n",
    "# Map the channel to a channel code\n",
    "marketing['channel_code'] = marketing['subscribing_channel'].map(channel_dict)"
   ]
  },
  {
   "cell_type": "code",
   "execution_count": null,
   "id": "6e804011",
   "metadata": {},
   "outputs": [],
   "source": [
    "# Mapping for channels\n",
    "channel_dict = {\"House Ads\": 1, \"Instagram\": 2, \n",
    "                \"Facebook\": 3, \"Email\": 4, \"Push\": 5}\n",
    "\n",
    "# Map the channel to a channel code\n",
    "marketing['channel_code'] = marketing['subscribing_channel'].map(channel_dict)\n",
    "\n",
    "# Import numpy\n",
    "import numpy as np\n",
    "\n",
    "# Add the new column is_correct_lang\n",
    "marketing['is_correct_lang'] = np.where(marketing['language_displayed'] == marketing['language_preferred'], 'Yes', 'No')"
   ]
  },
  {
   "cell_type": "code",
   "execution_count": null,
   "id": "730748af",
   "metadata": {},
   "outputs": [],
   "source": [
    "# Import pandas into the environment\n",
    "import pandas as pd\n",
    "\n",
    "# Import marketing.csv with date columns\n",
    "marketing = pd.read_csv('marketing.csv', parse_dates = ['date_served', 'date_subscribed', 'date_canceled'])\n",
    "\n",
    "# Add a DoW column\n",
    "marketing['DoW'] = marketing['date_subscribed'].dt.dayofweek"
   ]
  },
  {
   "cell_type": "markdown",
   "id": "1e4d0cbd",
   "metadata": {},
   "source": [
    "### Initial exploratory analysis"
   ]
  },
  {
   "cell_type": "code",
   "execution_count": null,
   "id": "3b08fa36",
   "metadata": {},
   "outputs": [],
   "source": [
    "### Daily marketing reach by channel\n",
    "\n",
    "# Group by date_served and count number of unique user_id's\n",
    "daily_users = marketing.groupby(['date_served'])['user_id'].nunique()\n",
    "\n",
    "# Print head of daily_users\n",
    "print(daily_users.head())"
   ]
  },
  {
   "cell_type": "code",
   "execution_count": null,
   "id": "1d0d2778",
   "metadata": {},
   "outputs": [],
   "source": [
    "### Visualizing daily marketing reach\n",
    "\n",
    "# Plot daily_subscribers\n",
    "daily_users.plot()\n",
    "\n",
    "# Include a title and y-axis label\n",
    "plt.title('Daily users')\n",
    "plt.ylabel('Number of users')\n",
    "\n",
    "# Rotate the x-axis labels by 45 degrees\n",
    "plt.xticks(rotation = 45)\n",
    "\n",
    "# Display the plot\n",
    "plt.show()"
   ]
  },
  {
   "cell_type": "markdown",
   "id": "266c9e0a",
   "metadata": {},
   "source": [
    "## Exploratory Analysis & Summary Statistics"
   ]
  },
  {
   "cell_type": "code",
   "execution_count": null,
   "id": "a0a8e64d",
   "metadata": {},
   "outputs": [],
   "source": []
  }
 ],
 "metadata": {
  "kernelspec": {
   "display_name": "Python 3 (ipykernel)",
   "language": "python",
   "name": "python3"
  },
  "language_info": {
   "codemirror_mode": {
    "name": "ipython",
    "version": 3
   },
   "file_extension": ".py",
   "mimetype": "text/x-python",
   "name": "python",
   "nbconvert_exporter": "python",
   "pygments_lexer": "ipython3",
   "version": "3.9.12"
  }
 },
 "nbformat": 4,
 "nbformat_minor": 5
}
