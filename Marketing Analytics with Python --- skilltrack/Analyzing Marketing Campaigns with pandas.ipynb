{
 "cells": [
  {
   "cell_type": "markdown",
   "id": "1bd15ac5",
   "metadata": {},
   "source": [
    "# Analyzing Marketing Campaigns with pandas"
   ]
  },
  {
   "cell_type": "markdown",
   "id": "f1c77fce",
   "metadata": {},
   "source": [
    "https://campus.datacamp.com/courses/analyzing-marketing-campaigns-with-pandas/"
   ]
  },
  {
   "cell_type": "markdown",
   "id": "f6366541",
   "metadata": {},
   "source": [
    "## Pandas"
   ]
  },
  {
   "cell_type": "markdown",
   "id": "48452906",
   "metadata": {},
   "source": [
    "### Intro to pandas for marketing"
   ]
  },
  {
   "cell_type": "code",
   "execution_count": null,
   "id": "250a8cd9",
   "metadata": {},
   "outputs": [],
   "source": [
    "# Import pandas into the environment\n",
    "import pandas as pd\n",
    "\n",
    "# Import marketing.csv \n",
    "marketing = pd.read_csv('marketing.csv')"
   ]
  },
  {
   "cell_type": "code",
   "execution_count": null,
   "id": "99421304",
   "metadata": {},
   "outputs": [],
   "source": [
    "# Print the first five rows of the DataFrame\n",
    "print(marketing.head())\n",
    "\n",
    "# Print the statistics of all columns\n",
    "print(marketing.describe())\n",
    "\n",
    "# Check column data types and non-missing values\n",
    "print(marketing.info())"
   ]
  },
  {
   "cell_type": "markdown",
   "id": "6b84078c",
   "metadata": {},
   "source": [
    "### Data types and data merging"
   ]
  },
  {
   "cell_type": "code",
   "execution_count": null,
   "id": "ecb66f91",
   "metadata": {},
   "outputs": [],
   "source": [
    "### Updating the data type of a column\n",
    "\n",
    "# Convert is_retained to a boolean\n",
    "marketing['is_retained'] = marketing['is_retained'].astype('bool')\n",
    "\n",
    "# Check the data type of is_retained, again\n",
    "print(marketing['is_retained'].dtype)"
   ]
  },
  {
   "cell_type": "code",
   "execution_count": null,
   "id": "aa0457b4",
   "metadata": {},
   "outputs": [],
   "source": [
    "### Adding new columns\n",
    "\n",
    "# Mapping for channels\n",
    "channel_dict = {\"House Ads\": 1, \"Instagram\": 2, \n",
    "                \"Facebook\": 3, \"Email\": 4, \"Push\": 5}\n",
    "\n",
    "# Map the channel to a channel code\n",
    "marketing['channel_code'] = marketing['subscribing_channel'].map(channel_dict)"
   ]
  },
  {
   "cell_type": "code",
   "execution_count": null,
   "id": "6e804011",
   "metadata": {},
   "outputs": [],
   "source": [
    "# Mapping for channels\n",
    "channel_dict = {\"House Ads\": 1, \"Instagram\": 2, \n",
    "                \"Facebook\": 3, \"Email\": 4, \"Push\": 5}\n",
    "\n",
    "# Map the channel to a channel code\n",
    "marketing['channel_code'] = marketing['subscribing_channel'].map(channel_dict)\n",
    "\n",
    "# Import numpy\n",
    "import numpy as np\n",
    "\n",
    "# Add the new column is_correct_lang\n",
    "marketing['is_correct_lang'] = np.where(marketing['language_displayed'] == marketing['language_preferred'], 'Yes', 'No')"
   ]
  },
  {
   "cell_type": "code",
   "execution_count": null,
   "id": "730748af",
   "metadata": {},
   "outputs": [],
   "source": [
    "# Import pandas into the environment\n",
    "import pandas as pd\n",
    "\n",
    "# Import marketing.csv with date columns\n",
    "marketing = pd.read_csv('marketing.csv', parse_dates = ['date_served', 'date_subscribed', 'date_canceled'])\n",
    "\n",
    "# Add a DoW column\n",
    "marketing['DoW'] = marketing['date_subscribed'].dt.dayofweek"
   ]
  },
  {
   "cell_type": "markdown",
   "id": "1e4d0cbd",
   "metadata": {},
   "source": [
    "### Initial exploratory analysis"
   ]
  },
  {
   "cell_type": "code",
   "execution_count": null,
   "id": "3b08fa36",
   "metadata": {},
   "outputs": [],
   "source": [
    "### Daily marketing reach by channel\n",
    "\n",
    "# Group by date_served and count number of unique user_id's\n",
    "daily_users = marketing.groupby(['date_served'])['user_id'].nunique()\n",
    "\n",
    "# Print head of daily_users\n",
    "print(daily_users.head())"
   ]
  },
  {
   "cell_type": "code",
   "execution_count": null,
   "id": "1d0d2778",
   "metadata": {},
   "outputs": [],
   "source": [
    "### Visualizing daily marketing reach\n",
    "\n",
    "# Plot daily_subscribers\n",
    "daily_users.plot()\n",
    "\n",
    "# Include a title and y-axis label\n",
    "plt.title('Daily users')\n",
    "plt.ylabel('Number of users')\n",
    "\n",
    "# Rotate the x-axis labels by 45 degrees\n",
    "plt.xticks(rotation = 45)\n",
    "\n",
    "# Display the plot\n",
    "plt.show()"
   ]
  },
  {
   "cell_type": "markdown",
   "id": "266c9e0a",
   "metadata": {},
   "source": [
    "## Exploratory Analysis & Summary Statistics"
   ]
  },
  {
   "cell_type": "markdown",
   "id": "99043fe3",
   "metadata": {},
   "source": [
    "### Introduction to common marketing metrics"
   ]
  },
  {
   "cell_type": "code",
   "execution_count": null,
   "id": "c7a0349d",
   "metadata": {},
   "outputs": [],
   "source": [
    "# Calculating conversion rate\n",
    "\n",
    "# Calculate the number of people we marketed to\n",
    "total = marketing['user_id'].nunique()\n",
    "\n",
    "# Calculate the number of people who subscribed\n",
    "subscribers = marketing[marketing['converted'] == True]['user_id'].nunique()\n",
    "\n",
    "# Calculate the conversion rate\n",
    "conversion_rate = subscribers / total\n",
    "print(round(conversion_rate*100, 2), \"%\")"
   ]
  },
  {
   "cell_type": "code",
   "execution_count": null,
   "id": "59185d5f",
   "metadata": {},
   "outputs": [],
   "source": [
    "# Calculating retention rate\n",
    "\n",
    "# Calculate the number of subscribers\n",
    "total_subscribers = marketing[marketing['converted'] == True]['user_id'].nunique()\n",
    "\n",
    "# Calculate the number of people who remained subscribed\n",
    "retained = marketing[marketing['is_retained'] == True]['user_id'].nunique()\n",
    "\n",
    "# Calculate the retention rate\n",
    "retention_rate = retained / total_subscribers\n",
    "print(round(retention_rate*100, 2), \"%\")"
   ]
  },
  {
   "cell_type": "markdown",
   "id": "8beb195b",
   "metadata": {},
   "source": [
    "### Customer segmentation"
   ]
  },
  {
   "cell_type": "code",
   "execution_count": null,
   "id": "befcc16e",
   "metadata": {},
   "outputs": [],
   "source": [
    "# Comparing language conversion rate (I)\n",
    "\n",
    "# Isolate english speakers\n",
    "english_speakers = marketing[marketing['language_displayed'] == 'English']\n",
    "\n",
    "# Calculate the total number of English speaking users\n",
    "total = english_speakers['user_id'].nunique()\n",
    "\n",
    "# Calculate the number of English speakers who converted\n",
    "subscribers = english_speakers[english_speakers['converted'] == True]['user_id'].nunique()\n",
    "\n",
    "# Calculate conversion rate\n",
    "conversion_rate = subscribers/total\n",
    "print('English speaker conversion rate:', round(conversion_rate*100,2), '%')"
   ]
  },
  {
   "cell_type": "code",
   "execution_count": null,
   "id": "7ae0ee89",
   "metadata": {},
   "outputs": [],
   "source": [
    "# Comparing language conversion rate (II)\n",
    "\n",
    "# Group by language_displayed and count unique users\n",
    "total = marketing.groupby(['language_displayed'])['user_id'].nunique()\n",
    "\n",
    "# Group by language_displayed and count unique conversions\n",
    "subscribers = marketing[marketing['converted'] == True].groupby(['language_displayed'])['user_id'].nunique()\n",
    "\n",
    "# Calculate the conversion rate for all languages\n",
    "language_conversion_rate = subscribers / total\n",
    "print(language_conversion_rate)"
   ]
  },
  {
   "cell_type": "code",
   "execution_count": null,
   "id": "7b184e8a",
   "metadata": {},
   "outputs": [],
   "source": [
    "# Aggregating by date\n",
    "\n",
    "# Group by date_served and count unique users\n",
    "total = marketing.groupby(['date_served'])['user_id'].nunique()\n",
    "\n",
    "# Group by date_served and count unique converted users\n",
    "subscribers = marketing[marketing['converted'] == True].groupby(['date_served'])['user_id'].nunique()\n",
    "\n",
    "# Calculate the conversion rate per day\n",
    "daily_conversion_rate = subscribers/total\n",
    "print(daily_conversion_rate)"
   ]
  },
  {
   "cell_type": "markdown",
   "id": "f0712417",
   "metadata": {},
   "source": [
    "### Plotting campaign results (I)"
   ]
  },
  {
   "cell_type": "code",
   "execution_count": null,
   "id": "5785063c",
   "metadata": {},
   "outputs": [],
   "source": [
    "# Visualize conversion rate by language\n",
    "\n",
    "# Create a bar chart using language_conversion_rate DataFrame\n",
    "language_conversion_rate.plot(kind = 'bar')\n",
    "\n",
    "# Add a title and x and y-axis labels\n",
    "plt.title('Conversion rate by language\\n', size = 16)\n",
    "plt.xlabel('Language', size = 14)\n",
    "plt.ylabel('Conversion rate (%)', size = 14)\n",
    "\n",
    "# Display the plot\n",
    "plt.show()"
   ]
  },
  {
   "cell_type": "code",
   "execution_count": null,
   "id": "10e45a3f",
   "metadata": {},
   "outputs": [],
   "source": [
    "# Creating daily conversion rate DataFrame\n",
    "\n",
    "# Group by date_served and count unique users\n",
    "total = marketing.groupby(['date_served'])['user_id']\\\n",
    "                     .nunique()\n",
    "\n",
    "# Group by date_served and calculate subscribers\n",
    "subscribers = marketing[marketing['converted'] == True]\\\n",
    "                         .groupby(['date_served'])\\\n",
    "                         ['user_id'].nunique()\n",
    "\n",
    "# Calculate the conversion rate for all languages\n",
    "daily_conversion_rates = subscribers/total"
   ]
  },
  {
   "cell_type": "code",
   "execution_count": null,
   "id": "548542ce",
   "metadata": {},
   "outputs": [],
   "source": [
    "# Setting up our data to visualize daily conversion\n",
    "\n",
    "# Reset index to turn the results into a DataFrame\n",
    "daily_conversion_rate = pd.DataFrame(daily_conversion_rates.reset_index())\n",
    "\n",
    "# Rename columns\n",
    "daily_conversion_rate.columns = ['date_served', \n",
    "                              'conversion_rate']"
   ]
  },
  {
   "cell_type": "code",
   "execution_count": null,
   "id": "7cd16783",
   "metadata": {},
   "outputs": [],
   "source": [
    "# Visualize daily conversion rate\n",
    "\n",
    "# Create a line chart using daily_conversion_rate\n",
    "daily_conversion_rate.plot('date_subscribed', 'conversion_rate')\n",
    "\n",
    "plt.title('Daily conversion rate\\n', size = 16)\n",
    "plt.ylabel('Conversion rate (%)', size = 14)\n",
    "plt.xlabel('Date', size = 14)\n",
    "\n",
    "# Set the y-axis to begin at 0\n",
    "plt.ylim(0)\n",
    "\n",
    "# Display the plot\n",
    "plt.show()"
   ]
  },
  {
   "cell_type": "markdown",
   "id": "f0606a14",
   "metadata": {},
   "source": [
    "### Plotting campaign results (II)"
   ]
  },
  {
   "cell_type": "code",
   "execution_count": null,
   "id": "086430ff",
   "metadata": {},
   "outputs": [],
   "source": [
    "# Marketing channels across age groups\n",
    "\n",
    "channel_age = marketing.groupby(['marketing_channel', 'age_group'])\\\n",
    "                                ['user_id'].count()\n",
    "\n",
    "# Unstack channel_age and transform it into a DataFrame\n",
    "channel_age_df = pd.DataFrame(channel_age.unstack(level = 1))\n",
    "\n",
    "# Plot channel_age\n",
    "channel_age_df.plot(kind = 'bar')\n",
    "plt.title('Marketing channels by age group')\n",
    "plt.xlabel('Age Group')\n",
    "plt.ylabel('Users')\n",
    "# Add a legend to the plot\n",
    "plt.legend(loc = 'upper right', \n",
    "           labels = channel_age_df.columns.values)\n",
    "plt.show()"
   ]
  },
  {
   "cell_type": "code",
   "execution_count": null,
   "id": "d147d997",
   "metadata": {},
   "outputs": [],
   "source": [
    "#Grouping and counting by multiple columns\n",
    "\n",
    "# Count the subs by subscribing channel and day\n",
    "retention_total = marketing.groupby(['date_subscribed',\n",
    "                                     'subscribing_channel'])\\\n",
    "                                     ['user_id'].nunique()\n",
    "\n",
    "# Print results\n",
    "print(retention_total.head())"
   ]
  },
  {
   "cell_type": "code",
   "execution_count": null,
   "id": "418ec6f1",
   "metadata": {},
   "outputs": [],
   "source": [
    "# Grouping and counting by multiple columns\n",
    "\n",
    "# Sum the retained subs by subscribing channel and date subscribed\n",
    "retention_subs = marketing[marketing['is_retained'] == True].groupby(\n",
    "    ['date_subscribed', 'subscribing_channel'])['user_id'].\\\n",
    "    nunique()\n",
    "\n",
    "# Print results\n",
    "print(retention_subs.head())"
   ]
  },
  {
   "cell_type": "code",
   "execution_count": null,
   "id": "37af475a",
   "metadata": {},
   "outputs": [],
   "source": [
    "# Analyzing retention rates for the campaign\n",
    "\n",
    "# Divide retained subscribers by total subscribers\n",
    "retention_rate = retention_subs/retention_total\n",
    "retention_rate_df = pd.DataFrame(retention_rate.unstack(level=1))\n",
    "\n",
    "# Plot retention rate\n",
    "retention_rate_df.plot()\n",
    "\n",
    "# Add a title, x-label, y-label, legend and display the plot\n",
    "plt.title('Retention Rate by Subscribing Channel')\n",
    "plt.xlabel('Date Subscribed')\n",
    "plt.ylabel('Retention Rate (%)')\n",
    "plt.legend(loc = 'upper right', labels = retention_rate_df.columns.values)\n",
    "plt.show()"
   ]
  },
  {
   "cell_type": "markdown",
   "id": "74b7e475",
   "metadata": {},
   "source": [
    "## Conversion Attribution"
   ]
  },
  {
   "cell_type": "markdown",
   "id": "b04270e4",
   "metadata": {},
   "source": [
    "### Bulding functions to automate analysis"
   ]
  },
  {
   "cell_type": "code",
   "execution_count": null,
   "id": "3ff5747b",
   "metadata": {},
   "outputs": [],
   "source": [
    "# Building a conversion function\n",
    "\n",
    "def conversion_rate(dataframe, column_names):\n",
    "    # Total number of converted users\n",
    "    column_conv = dataframe[dataframe['converted'] == True]\\\n",
    "                        .groupby(column_names)['user_id'].nunique()\n",
    "\n",
    "    # Total number users\n",
    "    column_total = dataframe.groupby(column_names)['user_id'].nunique()  \n",
    "    \n",
    "    # Conversion rate \n",
    "    conversion_rate = column_conv/column_total\n",
    "    \n",
    "    # Fill missing values with 0\n",
    "    conversion_rate = conversion_rate.fillna(0)\n",
    "    return conversion_rate"
   ]
  },
  {
   "cell_type": "code",
   "execution_count": null,
   "id": "0a3ea0e8",
   "metadata": {},
   "outputs": [],
   "source": [
    "# Test and visualize conversion function\n",
    "\n",
    "# Calculate conversion rate by age_group\n",
    "age_group_conv = conversion_rate(marketing, ['date_served', 'age_group'])\n",
    "print(age_group_conv)\n",
    "\n",
    "# Unstack and create a DataFrame\n",
    "age_group_df = pd.DataFrame(age_group_conv.unstack())\n",
    "\n",
    "# Visualize conversion by age_group\n",
    "age_group_df.plot()\n",
    "plt.title('Conversion rate by age group\\n', size = 16)\n",
    "plt.ylabel('Conversion rate', size = 14)\n",
    "plt.xlabel('Age group', size = 14)\n",
    "plt.show()"
   ]
  },
  {
   "cell_type": "code",
   "execution_count": null,
   "id": "41c6b14f",
   "metadata": {},
   "outputs": [],
   "source": [
    "# Plotting function\n",
    "\n",
    "def plotting_conv(dataframe):\n",
    "    for column in dataframe:\n",
    "        # Plot column by dataframe's index\n",
    "        plt.plot(dataframe.index, dataframe[column])\n",
    "        plt.title('Daily ' + str(column) + ' conversion rate\\n', \n",
    "                  size = 16)\n",
    "        plt.ylabel('Conversion rate', size = 14)\n",
    "        plt.xlabel('Date', size = 14)\n",
    "        # Show plot\n",
    "        plt.show()  \n",
    "        plt.clf()"
   ]
  },
  {
   "cell_type": "code",
   "execution_count": null,
   "id": "7f3f3c7f",
   "metadata": {},
   "outputs": [],
   "source": [
    "# Putting it all together\n",
    "\n",
    "# Calculate conversion rate by date served and age group\n",
    "age_group_conv = conversion_rate(marketing, ['date_served', 'age_group'])\n",
    "\n",
    "# Unstack age_group_conv and create a DataFrame\n",
    "age_group_df = pd.DataFrame(age_group_conv.unstack(level=1))\n",
    "\n",
    "# Plot the results\n",
    "plotting_conv(age_group_df)"
   ]
  },
  {
   "cell_type": "markdown",
   "id": "ce7033df",
   "metadata": {},
   "source": [
    "### Identifying inconsistencies"
   ]
  },
  {
   "cell_type": "code",
   "execution_count": null,
   "id": "24a519f7",
   "metadata": {},
   "outputs": [],
   "source": [
    "# House ads conversion rate\n",
    "\n",
    "# Calculate conversion rate by date served and channel\n",
    "daily_conv_channel = conversion_rate(marketing, ['date_served', 'marketing_channel'])\n",
    "\n",
    "print(daily_conv_channel.head())"
   ]
  },
  {
   "cell_type": "code",
   "execution_count": null,
   "id": "4052a353",
   "metadata": {},
   "outputs": [],
   "source": [
    "# Calculate conversion rate by date served and channel\n",
    "daily_conv_channel = conversion_rate(marketing, ['date_served', \n",
    "                                                 'marketing_channel'])\n",
    "\n",
    "# Unstack daily_conv_channel and convert it to a DataFrame\n",
    "daily_conv_channel = pd.DataFrame(daily_conv_channel.unstack(level = 1))\n",
    "\n",
    "# Plot results of daily_conv_channel\n",
    "plotting_conv(daily_conv_channel)"
   ]
  },
  {
   "cell_type": "code",
   "execution_count": null,
   "id": "44009f34",
   "metadata": {},
   "outputs": [],
   "source": [
    "# Analyzing House ads conversion rate\n",
    "\n",
    "# Add day of week column to marketing\n",
    "marketing['DoW_served'] = marketing['date_served'].dt.dayofweek\n",
    "\n",
    "# Calculate conversion rate by day of week\n",
    "DoW_conversion = conversion_rate(marketing, ['DoW_served', 'marketing_channel'])\n",
    "\n",
    "\n",
    "# Unstack channels\n",
    "DoW_df = pd.DataFrame(DoW_conversion.unstack(level=1))\n",
    "\n",
    "# Plot conversion rate by day of week\n",
    "DoW_df.plot()\n",
    "plt.title('Conversion rate by day of week\\n')\n",
    "plt.ylim(0) \n",
    "plt.show()"
   ]
  },
  {
   "cell_type": "code",
   "execution_count": null,
   "id": "8e163610",
   "metadata": {},
   "outputs": [],
   "source": [
    "# House ads conversion by language\n",
    "\n",
    "# Isolate the rows where marketing channel is House Ads\n",
    "house_ads = marketing[marketing['marketing_channel'] == 'House Ads']\n",
    "\n",
    "# Calculate conversion by date served, and language displayed\n",
    "conv_lang_channel = conversion_rate(house_ads, ['date_served', 'language_displayed'])\n",
    "\n",
    "# Unstack conv_lang_channel\n",
    "conv_lang_df = pd.DataFrame(conv_lang_channel.unstack(level=1))\n",
    "\n",
    "# Use your plotting function to display results\n",
    "plotting_conv(conv_lang_df)"
   ]
  },
  {
   "cell_type": "code",
   "execution_count": null,
   "id": "d81ceafd",
   "metadata": {},
   "outputs": [],
   "source": [
    "# Creating a DataFrame for house ads\n",
    "\n",
    "# Add the new column is_correct_lang\n",
    "house_ads['is_correct_lang'] = np.where(\n",
    "    house_ads['language_displayed'] == house_ads['language_preferred'], \n",
    "    'Yes', \n",
    "    'No')\n",
    "\n",
    "# Groupby date_served and correct_language\n",
    "language_check = house_ads.groupby(['date_served', 'is_correct_lang'])['marketing_channel'].count()\n",
    "\n",
    "# Unstack language_check and fill missing values with 0's\n",
    "language_check_df = pd.DataFrame(language_check.unstack(level=1)).fillna(0)\n",
    "\n",
    "# Print results\n",
    "print(language_check_df)"
   ]
  },
  {
   "cell_type": "code",
   "execution_count": null,
   "id": "158847b1",
   "metadata": {},
   "outputs": [],
   "source": [
    "# Confirming house ads error\n",
    "\n",
    "# Divide the count where language is correct by the row sum\n",
    "language_check_df['pct'] = language_check_df['Yes']/language_check_df.sum(axis = 1)\n",
    "\n",
    "# Plot and show your results\n",
    "plt.plot(language_check_df.index.values, language_check_df['pct'])\n",
    "plt.show()"
   ]
  },
  {
   "cell_type": "markdown",
   "id": "96d5d86d",
   "metadata": {},
   "source": [
    "### Resolving inconsistencies"
   ]
  },
  {
   "cell_type": "code",
   "execution_count": null,
   "id": "8ae623b8",
   "metadata": {},
   "outputs": [],
   "source": [
    "# Setting up conversion indexes\n",
    "\n",
    "# Calculate pre-error conversion rate\n",
    "house_ads_bug = house_ads[house_ads['date_served'] < '2018-01-11']\n",
    "lang_conv = conversion_rate(house_ads_bug, ['language_displayed'])\n",
    "\n",
    "# Index other language conversion rate against English\n",
    "spanish_index = lang_conv['Spanish']/lang_conv['English']\n",
    "arabic_index = lang_conv['Arabic']/lang_conv['English']\n",
    "german_index = lang_conv['German']/lang_conv['English']\n",
    "\n",
    "print(\"Spanish index:\", spanish_index)\n",
    "print(\"Arabic index:\", arabic_index)\n",
    "print(\"German index:\", german_index)"
   ]
  },
  {
   "cell_type": "code",
   "execution_count": 1,
   "id": "d374fb12",
   "metadata": {},
   "outputs": [],
   "source": [
    "# Analyzing user preferences"
   ]
  },
  {
   "cell_type": "markdown",
   "id": "e43de804",
   "metadata": {},
   "source": [
    "To understand the true impact of the bug, it is crucial to determine how many subscribers we would have expected had there been no language error. This is crucial to understanding the scale of the problem and how important it is to prevent this kind of error in the future."
   ]
  },
  {
   "cell_type": "code",
   "execution_count": null,
   "id": "6db28496",
   "metadata": {},
   "outputs": [],
   "source": [
    "# Group house_ads by date and language\n",
    "converted = house_ads.groupby(['date_served', 'language_preferred'])\\\n",
    "                        .agg({'user_id':'nunique',\n",
    "                              'converted':'sum'})\n",
    "\n",
    "# Unstack converted\n",
    "converted_df = pd.DataFrame(converted.unstack(level = 1))"
   ]
  },
  {
   "cell_type": "code",
   "execution_count": null,
   "id": "163bb35d",
   "metadata": {},
   "outputs": [],
   "source": [
    "# Creating a DataFrame based on indexes"
   ]
  },
  {
   "cell_type": "markdown",
   "id": "a183d621",
   "metadata": {},
   "source": [
    "Now that you've created an index to compare English conversion rates against all other languages, you will build out a DataFrame that will estimate what daily conversion rates should have been if users were being served the correct language."
   ]
  },
  {
   "cell_type": "code",
   "execution_count": null,
   "id": "8dc66bd6",
   "metadata": {},
   "outputs": [],
   "source": [
    "# Create English conversion rate column for affected period\n",
    "converted['english_conv_rate'] = converted.loc['2018-01-11':'2018-01-31'][('converted','English')]\n",
    "\n",
    "# Create expected conversion rates for each language\n",
    "converted['expected_spanish_rate'] = converted['english_conv_rate']*spanish_index\n",
    "converted['expected_arabic_rate'] = converted['english_conv_rate']*arabic_index\n",
    "converted['expected_german_rate'] = converted['english_conv_rate']*german_index\n",
    "\n",
    "# Multiply number of users by the expected conversion rate\n",
    "converted['expected_spanish_conv'] = converted['expected_spanish_rate']/100*converted[('user_id','Spanish')]\n",
    "converted['expected_arabic_conv'] = converted['expected_arabic_rate']/100*converted[('user_id','Arabic')]\n",
    "converted['expected_german_conv'] = converted['expected_german_rate']/100*converted[('user_id','German')]"
   ]
  },
  {
   "cell_type": "code",
   "execution_count": null,
   "id": "521ee643",
   "metadata": {},
   "outputs": [],
   "source": [
    "# Assessing bug impact\n",
    "# to calculate how many subscribers were lost due to mistakenly serving users English rather than their preferred language. \n",
    "\n",
    "# Use .loc to slice only the relevant dates\n",
    "converted = converted.loc['2018-01-11':'2018-01-31']\n",
    "\n",
    "# Sum expected subscribers for each language\n",
    "expected_subs = converted['expected_spanish_conv'].sum() + \n",
    "                converted['expected_arabic_conv'].sum() + \n",
    "                converted['expected_german_conv'].sum()\n",
    "\n",
    "# Calculate how many subscribers we actually got\n",
    "actual_subs = converted[('converted','Spanish')].sum() + \n",
    "                converted[('converted','Arabic')].sum() + \n",
    "                converted[('converted','German')].sum()\n",
    "\n",
    "# Subtract how many subscribers we got despite the bug\n",
    "lost_subs = expected_subs - actual_subs\n",
    "print(lost_subs)"
   ]
  },
  {
   "cell_type": "markdown",
   "id": "1b7cf42b",
   "metadata": {},
   "source": [
    "## A/B testing for marketing"
   ]
  },
  {
   "cell_type": "code",
   "execution_count": null,
   "id": "69f67f43",
   "metadata": {},
   "outputs": [],
   "source": []
  }
 ],
 "metadata": {
  "kernelspec": {
   "display_name": "Python 3 (ipykernel)",
   "language": "python",
   "name": "python3"
  },
  "language_info": {
   "codemirror_mode": {
    "name": "ipython",
    "version": 3
   },
   "file_extension": ".py",
   "mimetype": "text/x-python",
   "name": "python",
   "nbconvert_exporter": "python",
   "pygments_lexer": "ipython3",
   "version": "3.9.12"
  }
 },
 "nbformat": 4,
 "nbformat_minor": 5
}
